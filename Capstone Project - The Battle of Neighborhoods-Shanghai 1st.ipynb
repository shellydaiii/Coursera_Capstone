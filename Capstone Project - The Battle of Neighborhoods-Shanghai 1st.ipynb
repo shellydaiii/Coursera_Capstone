{
 "cells": [
  {
   "cell_type": "code",
   "execution_count": 2,
   "metadata": {},
   "outputs": [],
   "source": [
    "import pandas as pd"
   ]
  },
  {
   "cell_type": "markdown",
   "metadata": {},
   "source": [
    "# 1. Introduction/Business Understanding"
   ]
  },
  {
   "cell_type": "markdown",
   "metadata": {},
   "source": [
    "## 1.1 Discussion of the background"
   ]
  },
  {
   "cell_type": "markdown",
   "metadata": {},
   "source": [
    "Shanghai is one of the four municipalities of the People's Republic of China. It is located on the southern estuary of the Yangtze, with the Huangpu River flowing through it. With a population of 24.28 million as of 2019, it is the most populous urban area in China and the second most populous city proper in the world. Greater Shanghai is a global center for finance, technology, innovation and transportation and the Port of Shanghai is the world's busiest container port.\n",
    "\n",
    "Shanghai has been described as the \"showpiece\" of the booming economy of China. Featuring several architecture styles such as Art Deco and shikumen, the city is renowned for its Lujiazui skyline, museums and historic buildings—including the City God Temple, Yu Garden, the China Pavilion and buildings along the Bund. Shanghai is also known for its sugary cuisine, distinctive dialect and vibrant international flair. Every year, the city hosts numerous national and international events, including Shanghai Fashion Week, the Chinese Grand Prix and ChinaJoy."
   ]
  },
  {
   "cell_type": "markdown",
   "metadata": {},
   "source": [
    "## 1.2 Description of the problem"
   ]
  },
  {
   "cell_type": "markdown",
   "metadata": {},
   "source": [
    "In this scenario, it is urgent to adopt machine learning tools in order to assist homebuyers clientele in Shanghai to make wise and effective decisions. As a result, the business problem we are currently posing is: how could we provide support to homebuyers clientele in to purchase a suitable real estate in Shanghai in this uncertain economic and financial scenario?\n",
    "\n",
    "To solve this business problem, we are going to cluster Shanghai neighborhoods in order to recommend venues and the current average price of real estate where homebuyers can make a real estate investment. We will recommend profitable venues according to amenities and essential facilities surrounding such venues i.e. elementary schools, high schools, hospitals & grocery stores."
   ]
  },
  {
   "cell_type": "markdown",
   "metadata": {},
   "source": [
    "# 2. Data Requirements"
   ]
  },
  {
   "cell_type": "markdown",
   "metadata": {},
   "source": [
    "### For this project we need following data:\n",
    "\n",
    "#### Shanghai data that contains list districts (Wards) along with their latitude and longitude.\n",
    "Datasource : https://en.wikipedia.org/wiki/List_of_administrative_divisions_of_Shanghai\n",
    "\n",
    "Description: We will Scrap Shanghai districts (Wards) Table from Wikipedia and get the coordinates of these 16 major districts using geocoder class of Geopy client.\n",
    "#### faxcilities in each neighborhood of Shanghai:\n",
    "Data source: Foursquare APIs\n",
    "\n",
    "Description : By using this API we will get all the venues in each neighborhood. We can filter these venues to get facilities like retaurants, elementary schools, high schools, hospitals & grocery stores."
   ]
  },
  {
   "cell_type": "markdown",
   "metadata": {},
   "source": [
    "# 3. Methodology"
   ]
  },
  {
   "cell_type": "markdown",
   "metadata": {},
   "source": [
    "The Methodology section will describe the main components of our analysis and predication system. The Methodology section comprises four stages:\n",
    "1. Collect Inspection Data\n",
    "2. Explore and Understand Data\n",
    "3. Data preparation and preprocessing \n",
    "4. Modeling"
   ]
  },
  {
   "cell_type": "markdown",
   "metadata": {},
   "source": [
    "## 3.1 Data Preparation"
   ]
  },
  {
   "cell_type": "markdown",
   "metadata": {},
   "source": [
    "### 3.1.1 Scraping Tokyo Wards Table from Wikipedia\n",
    "I first make use of  Shanghai data that contains list districts from Wiki to scrap the table to create a data-frame. For this, I’ve used pandas to transform the data in the table on the Wikipedia page into a dataframe containing name of the 16 wards of Shanghai, Area, population. We start as below:"
   ]
  },
  {
   "cell_type": "code",
   "execution_count": 75,
   "metadata": {},
   "outputs": [],
   "source": [
    "df=pd.read_html( 'https://en.wikipedia.org/wiki/List_of_administrative_divisions_of_Shanghai')[3]"
   ]
  },
  {
   "cell_type": "code",
   "execution_count": 76,
   "metadata": {},
   "outputs": [
    {
     "name": "stderr",
     "output_type": "stream",
     "text": [
      "/anaconda3/lib/python3.7/site-packages/ipykernel_launcher.py:5: SettingWithCopyWarning: \n",
      "A value is trying to be set on a copy of a slice from a DataFrame\n",
      "\n",
      "See the caveats in the documentation: http://pandas.pydata.org/pandas-docs/stable/indexing.html#indexing-view-versus-copy\n",
      "  \"\"\"\n"
     ]
    },
    {
     "data": {
      "text/html": [
       "<div>\n",
       "<style scoped>\n",
       "    .dataframe tbody tr th:only-of-type {\n",
       "        vertical-align: middle;\n",
       "    }\n",
       "\n",
       "    .dataframe tbody tr th {\n",
       "        vertical-align: top;\n",
       "    }\n",
       "\n",
       "    .dataframe thead th {\n",
       "        text-align: right;\n",
       "    }\n",
       "</style>\n",
       "<table border=\"1\" class=\"dataframe\">\n",
       "  <thead>\n",
       "    <tr style=\"text-align: right;\">\n",
       "      <th></th>\n",
       "      <th>name</th>\n",
       "      <th>chinese</th>\n",
       "      <th>hanyu pinyin</th>\n",
       "      <th>postcode</th>\n",
       "      <th>division code</th>\n",
       "      <th>Area (km²)</th>\n",
       "      <th>Population (2018 census)</th>\n",
       "      <th>Density (/km²)</th>\n",
       "    </tr>\n",
       "  </thead>\n",
       "  <tbody>\n",
       "    <tr>\n",
       "      <th>0</th>\n",
       "      <td>Huangpu District</td>\n",
       "      <td>黄浦区</td>\n",
       "      <td>Huángpǔ Qū</td>\n",
       "      <td>310101</td>\n",
       "      <td>HGP</td>\n",
       "      <td>20.46</td>\n",
       "      <td>653800.0</td>\n",
       "      <td>31955.0</td>\n",
       "    </tr>\n",
       "    <tr>\n",
       "      <th>1</th>\n",
       "      <td>Xuhui District</td>\n",
       "      <td>徐汇区</td>\n",
       "      <td>Xúhuì Qū</td>\n",
       "      <td>310104</td>\n",
       "      <td>XHI</td>\n",
       "      <td>54.76</td>\n",
       "      <td>1084400.0</td>\n",
       "      <td>19803.0</td>\n",
       "    </tr>\n",
       "    <tr>\n",
       "      <th>2</th>\n",
       "      <td>Changning District</td>\n",
       "      <td>长宁区</td>\n",
       "      <td>Chángníng Qū</td>\n",
       "      <td>310105</td>\n",
       "      <td>CNQ</td>\n",
       "      <td>38.30</td>\n",
       "      <td>694000.0</td>\n",
       "      <td>18120.0</td>\n",
       "    </tr>\n",
       "    <tr>\n",
       "      <th>3</th>\n",
       "      <td>Jing'an District</td>\n",
       "      <td>静安区</td>\n",
       "      <td>Jìng'ān Qū</td>\n",
       "      <td>310106</td>\n",
       "      <td>JAQ</td>\n",
       "      <td>36.88</td>\n",
       "      <td>1062800.0</td>\n",
       "      <td>28818.0</td>\n",
       "    </tr>\n",
       "    <tr>\n",
       "      <th>4</th>\n",
       "      <td>Putuo District</td>\n",
       "      <td>普陀区</td>\n",
       "      <td>Pǔtuó Qū</td>\n",
       "      <td>310107</td>\n",
       "      <td>PTQ</td>\n",
       "      <td>54.83</td>\n",
       "      <td>1281900.0</td>\n",
       "      <td>23380.0</td>\n",
       "    </tr>\n",
       "    <tr>\n",
       "      <th>5</th>\n",
       "      <td>Hongkou District</td>\n",
       "      <td>虹口区</td>\n",
       "      <td>Hóngkǒu Qū</td>\n",
       "      <td>310109</td>\n",
       "      <td>HKQ</td>\n",
       "      <td>23.48</td>\n",
       "      <td>797000.0</td>\n",
       "      <td>33944.0</td>\n",
       "    </tr>\n",
       "    <tr>\n",
       "      <th>6</th>\n",
       "      <td>Yangpu District</td>\n",
       "      <td>杨浦区</td>\n",
       "      <td>Yángpǔ Qū</td>\n",
       "      <td>310110</td>\n",
       "      <td>YPU</td>\n",
       "      <td>60.73</td>\n",
       "      <td>1312700.0</td>\n",
       "      <td>21615.0</td>\n",
       "    </tr>\n",
       "    <tr>\n",
       "      <th>7</th>\n",
       "      <td>Pudong New Area</td>\n",
       "      <td>浦东新区</td>\n",
       "      <td>Pǔdōng Xīnqū</td>\n",
       "      <td>310115</td>\n",
       "      <td>PDX</td>\n",
       "      <td>1210.41</td>\n",
       "      <td>5550200.0</td>\n",
       "      <td>4585.0</td>\n",
       "    </tr>\n",
       "    <tr>\n",
       "      <th>8</th>\n",
       "      <td>Minhang District</td>\n",
       "      <td>闵行区</td>\n",
       "      <td>Mǐnháng Qū</td>\n",
       "      <td>310112</td>\n",
       "      <td>MHQ</td>\n",
       "      <td>370.75</td>\n",
       "      <td>2543500.0</td>\n",
       "      <td>6860.0</td>\n",
       "    </tr>\n",
       "    <tr>\n",
       "      <th>9</th>\n",
       "      <td>Baoshan District</td>\n",
       "      <td>宝山区</td>\n",
       "      <td>Bǎoshān Qū</td>\n",
       "      <td>310113</td>\n",
       "      <td>BAO</td>\n",
       "      <td>270.99</td>\n",
       "      <td>2042300.0</td>\n",
       "      <td>7536.0</td>\n",
       "    </tr>\n",
       "    <tr>\n",
       "      <th>10</th>\n",
       "      <td>Jiading District</td>\n",
       "      <td>嘉定区</td>\n",
       "      <td>Jiādìng Qū</td>\n",
       "      <td>310114</td>\n",
       "      <td>JDG</td>\n",
       "      <td>464.20</td>\n",
       "      <td>1588900.0</td>\n",
       "      <td>3423.0</td>\n",
       "    </tr>\n",
       "    <tr>\n",
       "      <th>11</th>\n",
       "      <td>Jinshan District</td>\n",
       "      <td>金山区</td>\n",
       "      <td>Jīnshān Qū</td>\n",
       "      <td>310116</td>\n",
       "      <td>JSH</td>\n",
       "      <td>586.05</td>\n",
       "      <td>805000.0</td>\n",
       "      <td>1374.0</td>\n",
       "    </tr>\n",
       "    <tr>\n",
       "      <th>12</th>\n",
       "      <td>Songjiang District</td>\n",
       "      <td>松江区</td>\n",
       "      <td>Sōngjiāng Qū</td>\n",
       "      <td>310117</td>\n",
       "      <td>SOJ</td>\n",
       "      <td>605.64</td>\n",
       "      <td>1762200.0</td>\n",
       "      <td>2910.0</td>\n",
       "    </tr>\n",
       "    <tr>\n",
       "      <th>13</th>\n",
       "      <td>Qingpu District</td>\n",
       "      <td>青浦区</td>\n",
       "      <td>Qīngpǔ Qū</td>\n",
       "      <td>310118</td>\n",
       "      <td>QPU</td>\n",
       "      <td>670.14</td>\n",
       "      <td>1219100.0</td>\n",
       "      <td>1819.0</td>\n",
       "    </tr>\n",
       "    <tr>\n",
       "      <th>14</th>\n",
       "      <td>Fengxian District</td>\n",
       "      <td>奉贤区</td>\n",
       "      <td>Fèngxián Qū</td>\n",
       "      <td>310120</td>\n",
       "      <td>FXI</td>\n",
       "      <td>687.39</td>\n",
       "      <td>1152000.0</td>\n",
       "      <td>1676.0</td>\n",
       "    </tr>\n",
       "    <tr>\n",
       "      <th>15</th>\n",
       "      <td>Chongming District</td>\n",
       "      <td>崇明区</td>\n",
       "      <td>Chóngmíng Qū</td>\n",
       "      <td>310151</td>\n",
       "      <td>CMG</td>\n",
       "      <td>1185.49</td>\n",
       "      <td>688100.0</td>\n",
       "      <td>580.0</td>\n",
       "    </tr>\n",
       "  </tbody>\n",
       "</table>\n",
       "</div>"
      ],
      "text/plain": [
       "                  name chinese  hanyu pinyin postcode division code  \\\n",
       "0     Huangpu District     黄浦区    Huángpǔ Qū   310101           HGP   \n",
       "1       Xuhui District     徐汇区      Xúhuì Qū   310104           XHI   \n",
       "2   Changning District     长宁区  Chángníng Qū   310105           CNQ   \n",
       "3     Jing'an District     静安区    Jìng'ān Qū   310106           JAQ   \n",
       "4       Putuo District     普陀区      Pǔtuó Qū   310107           PTQ   \n",
       "5     Hongkou District     虹口区    Hóngkǒu Qū   310109           HKQ   \n",
       "6      Yangpu District     杨浦区     Yángpǔ Qū   310110           YPU   \n",
       "7      Pudong New Area    浦东新区  Pǔdōng Xīnqū   310115           PDX   \n",
       "8     Minhang District     闵行区    Mǐnháng Qū   310112           MHQ   \n",
       "9     Baoshan District     宝山区    Bǎoshān Qū   310113           BAO   \n",
       "10    Jiading District     嘉定区    Jiādìng Qū   310114           JDG   \n",
       "11    Jinshan District     金山区    Jīnshān Qū   310116           JSH   \n",
       "12  Songjiang District     松江区  Sōngjiāng Qū   310117           SOJ   \n",
       "13     Qingpu District     青浦区     Qīngpǔ Qū   310118           QPU   \n",
       "14   Fengxian District     奉贤区   Fèngxián Qū   310120           FXI   \n",
       "15  Chongming District     崇明区  Chóngmíng Qū   310151           CMG   \n",
       "\n",
       "   Area (km²)  Population (2018 census)  Density (/km²)  \n",
       "0       20.46                  653800.0         31955.0  \n",
       "1       54.76                 1084400.0         19803.0  \n",
       "2       38.30                  694000.0         18120.0  \n",
       "3       36.88                 1062800.0         28818.0  \n",
       "4       54.83                 1281900.0         23380.0  \n",
       "5       23.48                  797000.0         33944.0  \n",
       "6       60.73                 1312700.0         21615.0  \n",
       "7     1210.41                 5550200.0          4585.0  \n",
       "8      370.75                 2543500.0          6860.0  \n",
       "9      270.99                 2042300.0          7536.0  \n",
       "10     464.20                 1588900.0          3423.0  \n",
       "11     586.05                  805000.0          1374.0  \n",
       "12     605.64                 1762200.0          2910.0  \n",
       "13     670.14                 1219100.0          1819.0  \n",
       "14     687.39                 1152000.0          1676.0  \n",
       "15    1185.49                  688100.0           580.0  "
      ]
     },
     "execution_count": 76,
     "metadata": {},
     "output_type": "execute_result"
    }
   ],
   "source": [
    "df=df.drop([0,1])\n",
    "df=df.drop(columns=[0])\n",
    "df=df.reset_index()\n",
    "df=df.drop(columns=['index'])\n",
    "df[1][0]=\"Huangpu District\"\n",
    "df.columns = ['name','chinese','hanyu pinyin',\n",
    "                     'postcode','division code','Area (km²)','Population (2018 census)','Density (/km²)']\n",
    "df"
   ]
  },
  {
   "cell_type": "markdown",
   "metadata": {},
   "source": [
    "## 3.1.2 Getting Coordinates of Major Districts : Geopy Client"
   ]
  },
  {
   "cell_type": "markdown",
   "metadata": {},
   "source": [
    "Next objective is to get the coordinates of these 21 major districts using geocoder class of Geopy client as follow:"
   ]
  },
  {
   "cell_type": "code",
   "execution_count": null,
   "metadata": {},
   "outputs": [],
   "source": []
  }
 ],
 "metadata": {
  "kernelspec": {
   "display_name": "Python 3",
   "language": "python",
   "name": "python3"
  },
  "language_info": {
   "codemirror_mode": {
    "name": "ipython",
    "version": 3
   },
   "file_extension": ".py",
   "mimetype": "text/x-python",
   "name": "python",
   "nbconvert_exporter": "python",
   "pygments_lexer": "ipython3",
   "version": "3.7.1"
  }
 },
 "nbformat": 4,
 "nbformat_minor": 2
}
